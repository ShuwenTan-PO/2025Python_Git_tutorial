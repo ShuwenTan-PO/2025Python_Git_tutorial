{
 "cells": [
  {
   "cell_type": "markdown",
   "metadata": {},
   "source": [
    "## I recommend you all to start with [Google Colab](https://colab.research.google.com/) to access the class materials and play with the code"
   ]
  },
  {
   "cell_type": "markdown",
   "metadata": {},
   "source": [
    ">Google Colab is a free, cloud-based platform that allows users to write, execute, and share Python code, particularly useful for machine learning and data science, directly within their web browser.\n",
    "1. First you need a google account \n",
    "2. Then you need to open the JupyterNotebooks from Github, the easiest way is to go `File` -> `Open Notebook` -> `GitHub` -> enter `https://github.com/ShuwenTan-PO/MARN-3060`\n",
    "3. You may make a copy of the JupyterNotebook by go `File` -> `Save a copy in Drive`\n",
    "4. Your copy will be in your Drive under Drive/Colab Notebooks\n",
    "5. You will need to select the lines in the first two cells in your jupyternotebook example and uncomment them. To do so, press `Ctrl + /` (Windows/Linux) or `Cmd + /` (Mac) (same command to comment the code). In Lecture01.ipynb the first two cell will be like below\n"
   ]
  },
  {
   "cell_type": "code",
   "execution_count": 3,
   "metadata": {},
   "outputs": [],
   "source": [
    "# %%capture\n",
    "\n",
    "# # Install necessary packages and restart the kernel.\n",
    "# !pip install netcdf4\n",
    "# !pip install xarray\n",
    "# !pip install ipympl\n",
    "# # resetart kernel\n",
    "# import IPython\n",
    "# IPython.Application.instance().kernel.do_shutdown(True) #automatically restarts kernel"
   ]
  },
  {
   "cell_type": "code",
   "execution_count": 4,
   "metadata": {},
   "outputs": [],
   "source": [
    "# # to enable the jupyter widgets so that you can plot interactive figures\n",
    "# from google.colab import output\n",
    "# output.enable_custom_widget_manager()"
   ]
  },
  {
   "cell_type": "markdown",
   "metadata": {
    "jp-MarkdownHeadingCollapsed": true
   },
   "source": [
    "<!-- # # copy this block to the top cell of your jupyternotebook\n",
    "# # this is to set your conda environment using condacolab (see: https://colab.research.google.com/drive/1c_RGCgQeLHVXlF44LyOFjfUW32CmG6BP#scrollTo=LAZ11nESX6qt)\n",
    "# # run this block \n",
    "# !pip install -q condacolab\n",
    "# import condacolab\n",
    "# condacolab.install()\n",
    "# !conda install scipy numpy matplotlib pandas xarray xgcm netcdf4 cmocean gsw xhistogram ipympl -->"
   ]
  }
 ],
 "metadata": {
  "kernelspec": {
   "display_name": "MARN-3060",
   "language": "python",
   "name": "marn-3060"
  },
  "language_info": {
   "codemirror_mode": {
    "name": "ipython",
    "version": 3
   },
   "file_extension": ".py",
   "mimetype": "text/x-python",
   "name": "python",
   "nbconvert_exporter": "python",
   "pygments_lexer": "ipython3",
   "version": "3.13.5"
  },
  "latex_envs": {
   "LaTeX_envs_menu_present": true,
   "autoclose": false,
   "autocomplete": true,
   "bibliofile": "biblio.bib",
   "cite_by": "apalike",
   "current_citInitial": 1,
   "eqLabelWithNumbers": true,
   "eqNumInitial": 1,
   "hotkeys": {
    "equation": "Ctrl-E",
    "itemize": "Ctrl-I"
   },
   "labels_anchors": false,
   "latex_user_defs": false,
   "report_style_numbering": false,
   "user_envs_cfg": false
  }
 },
 "nbformat": 4,
 "nbformat_minor": 4
}
